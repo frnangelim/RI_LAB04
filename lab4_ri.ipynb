{
  "nbformat": 4,
  "nbformat_minor": 0,
  "metadata": {
    "colab": {
      "name": "lab4_ri.ipynb",
      "version": "0.3.2",
      "provenance": [],
      "toc_visible": true
    },
    "kernelspec": {
      "name": "python3",
      "display_name": "Python 3"
    }
  },
  "cells": [
    {
      "cell_type": "markdown",
      "metadata": {
        "id": "E-PoWH7LTWbU",
        "colab_type": "text"
      },
      "source": [
        "# **Início**"
      ]
    },
    {
      "cell_type": "code",
      "metadata": {
        "id": "p1O7MHypTLa1",
        "colab_type": "code",
        "colab": {
          "base_uri": "https://localhost:8080/",
          "height": 680
        },
        "outputId": "8cce72c7-3387-4ffc-f7b9-f75ce6f7f726"
      },
      "source": [
        "import pandas as pd\n",
        "import collections\n",
        "import heapq\n",
        "import time\n",
        "import operator\n",
        "import csv\n",
        "import nltk\n",
        "import string\n",
        "nltk.download('punkt')\n",
        "nltk.download('rslp')\n",
        "nltk.download('stopwords')\n",
        "\n",
        "data = pd.read_csv('./results.csv', sep=',')\n",
        "data.head()"
      ],
      "execution_count": 52,
      "outputs": [
        {
          "output_type": "stream",
          "text": [
            "[nltk_data] Downloading package punkt to /root/nltk_data...\n",
            "[nltk_data]   Package punkt is already up-to-date!\n",
            "[nltk_data] Downloading package rslp to /root/nltk_data...\n",
            "[nltk_data]   Package rslp is already up-to-date!\n",
            "[nltk_data] Downloading package stopwords to /root/nltk_data...\n",
            "[nltk_data]   Package stopwords is already up-to-date!\n"
          ],
          "name": "stdout"
        },
        {
          "output_type": "execute_result",
          "data": {
            "text/html": [
              "<div>\n",
              "<style scoped>\n",
              "    .dataframe tbody tr th:only-of-type {\n",
              "        vertical-align: middle;\n",
              "    }\n",
              "\n",
              "    .dataframe tbody tr th {\n",
              "        vertical-align: top;\n",
              "    }\n",
              "\n",
              "    .dataframe thead th {\n",
              "        text-align: right;\n",
              "    }\n",
              "</style>\n",
              "<table border=\"1\" class=\"dataframe\">\n",
              "  <thead>\n",
              "    <tr style=\"text-align: right;\">\n",
              "      <th></th>\n",
              "      <th>title</th>\n",
              "      <th>subtitle</th>\n",
              "      <th>author</th>\n",
              "      <th>date</th>\n",
              "      <th>section</th>\n",
              "      <th>text</th>\n",
              "      <th>url</th>\n",
              "    </tr>\n",
              "  </thead>\n",
              "  <tbody>\n",
              "    <tr>\n",
              "      <th>0</th>\n",
              "      <td>“A sociedade foi Rubens Paiva  não os facínora...</td>\n",
              "      <td>A decisão da juíza que proíbe as Forças Armada...</td>\n",
              "      <td>F. M.</td>\n",
              "      <td>30/03/2019 00:11:08</td>\n",
              "      <td>Brasil</td>\n",
              "      <td>A juíza federal Ivani Silva da Luz  de Brasíli...</td>\n",
              "      <td>https://brasil.elpais.com/brasil/2019/03/26/po...</td>\n",
              "    </tr>\n",
              "    <tr>\n",
              "      <th>1</th>\n",
              "      <td>Justiça suspende decisão que proibia Forças Ar...</td>\n",
              "      <td>Liminar havia sido concedida na sexta-feira a ...</td>\n",
              "      <td>Marina Rossi</td>\n",
              "      <td>30/03/2019 16:17:59</td>\n",
              "      <td>Brasil</td>\n",
              "      <td>Menos de 24 horas depois de a juíza federal Iv...</td>\n",
              "      <td>https://brasil.elpais.com/brasil/2019/03/30/po...</td>\n",
              "    </tr>\n",
              "    <tr>\n",
              "      <th>2</th>\n",
              "      <td>Governo Bolsonaro prega “negacionismo históric...</td>\n",
              "      <td>Marcos Napolitano  professor da USP  diz que o...</td>\n",
              "      <td>Regiane Oliveira</td>\n",
              "      <td>04/04/2019 22:37:48</td>\n",
              "      <td>Brasil</td>\n",
              "      <td>Quando  determinou que  de 31 de março 1964  u...</td>\n",
              "      <td>https://brasil.elpais.com/brasil/2019/04/05/po...</td>\n",
              "    </tr>\n",
              "    <tr>\n",
              "      <th>3</th>\n",
              "      <td>Quando os pais de Gabo perceberam que tinham u...</td>\n",
              "      <td>Gustavo Tatis percorre o universo de García Má...</td>\n",
              "      <td>Jesús Ruiz Mantilla</td>\n",
              "      <td>07/03/2019 16:38:56</td>\n",
              "      <td>Cultura</td>\n",
              "      <td>Quando  era pequeno   Luisa e  Gabriel se preo...</td>\n",
              "      <td>https://brasil.elpais.com/brasil/2019/03/06/cu...</td>\n",
              "    </tr>\n",
              "    <tr>\n",
              "      <th>4</th>\n",
              "      <td>Rádios canadenses banem músicas de Michael Jac...</td>\n",
              "      <td>Quebec Cogeco Media toma a decisão após queixa...</td>\n",
              "      <td>Jaime Porras Ferreyra</td>\n",
              "      <td>07/03/2019 16:12:37</td>\n",
              "      <td>Cultura</td>\n",
              "      <td>Desde a manhã da última segunda-feira     e   ...</td>\n",
              "      <td>https://brasil.elpais.com/brasil/2019/03/06/cu...</td>\n",
              "    </tr>\n",
              "  </tbody>\n",
              "</table>\n",
              "</div>"
            ],
            "text/plain": [
              "                                               title  ...                                                url\n",
              "0  “A sociedade foi Rubens Paiva  não os facínora...  ...  https://brasil.elpais.com/brasil/2019/03/26/po...\n",
              "1  Justiça suspende decisão que proibia Forças Ar...  ...  https://brasil.elpais.com/brasil/2019/03/30/po...\n",
              "2  Governo Bolsonaro prega “negacionismo históric...  ...  https://brasil.elpais.com/brasil/2019/04/05/po...\n",
              "3  Quando os pais de Gabo perceberam que tinham u...  ...  https://brasil.elpais.com/brasil/2019/03/06/cu...\n",
              "4  Rádios canadenses banem músicas de Michael Jac...  ...  https://brasil.elpais.com/brasil/2019/03/06/cu...\n",
              "\n",
              "[5 rows x 7 columns]"
            ]
          },
          "metadata": {
            "tags": []
          },
          "execution_count": 52
        }
      ]
    },
    {
      "cell_type": "markdown",
      "metadata": {
        "id": "8WxSRajHUC07",
        "colab_type": "text"
      },
      "source": [
        "# Questão 1\n",
        "\n",
        "Texto original/Tokenizado :"
      ]
    },
    {
      "cell_type": "code",
      "metadata": {
        "id": "ltAFZjqtUFjD",
        "colab_type": "code",
        "colab": {
          "base_uri": "https://localhost:8080/",
          "height": 204
        },
        "outputId": "4005339e-c60a-462e-b606-ad06ff0ae328"
      },
      "source": [
        "data = pd.DataFrame(data['text'], columns=['text'])\n",
        "data['tokenized_text'] = data.apply(lambda row: nltk.word_tokenize(row['text'].lower(), language='portuguese'), axis=1)\n",
        "data.head()"
      ],
      "execution_count": 53,
      "outputs": [
        {
          "output_type": "execute_result",
          "data": {
            "text/html": [
              "<div>\n",
              "<style scoped>\n",
              "    .dataframe tbody tr th:only-of-type {\n",
              "        vertical-align: middle;\n",
              "    }\n",
              "\n",
              "    .dataframe tbody tr th {\n",
              "        vertical-align: top;\n",
              "    }\n",
              "\n",
              "    .dataframe thead th {\n",
              "        text-align: right;\n",
              "    }\n",
              "</style>\n",
              "<table border=\"1\" class=\"dataframe\">\n",
              "  <thead>\n",
              "    <tr style=\"text-align: right;\">\n",
              "      <th></th>\n",
              "      <th>text</th>\n",
              "      <th>tokenized_text</th>\n",
              "    </tr>\n",
              "  </thead>\n",
              "  <tbody>\n",
              "    <tr>\n",
              "      <th>0</th>\n",
              "      <td>A juíza federal Ivani Silva da Luz  de Brasíli...</td>\n",
              "      <td>[a, juíza, federal, ivani, silva, da, luz, de,...</td>\n",
              "    </tr>\n",
              "    <tr>\n",
              "      <th>1</th>\n",
              "      <td>Menos de 24 horas depois de a juíza federal Iv...</td>\n",
              "      <td>[menos, de, 24, horas, depois, de, a, juíza, f...</td>\n",
              "    </tr>\n",
              "    <tr>\n",
              "      <th>2</th>\n",
              "      <td>Quando  determinou que  de 31 de março 1964  u...</td>\n",
              "      <td>[quando, determinou, que, de, 31, de, março, 1...</td>\n",
              "    </tr>\n",
              "    <tr>\n",
              "      <th>3</th>\n",
              "      <td>Quando  era pequeno   Luisa e  Gabriel se preo...</td>\n",
              "      <td>[quando, era, pequeno, luisa, e, gabriel, se, ...</td>\n",
              "    </tr>\n",
              "    <tr>\n",
              "      <th>4</th>\n",
              "      <td>Desde a manhã da última segunda-feira     e   ...</td>\n",
              "      <td>[desde, a, manhã, da, última, segunda-feira, e...</td>\n",
              "    </tr>\n",
              "  </tbody>\n",
              "</table>\n",
              "</div>"
            ],
            "text/plain": [
              "                                                text                                     tokenized_text\n",
              "0  A juíza federal Ivani Silva da Luz  de Brasíli...  [a, juíza, federal, ivani, silva, da, luz, de,...\n",
              "1  Menos de 24 horas depois de a juíza federal Iv...  [menos, de, 24, horas, depois, de, a, juíza, f...\n",
              "2  Quando  determinou que  de 31 de março 1964  u...  [quando, determinou, que, de, 31, de, março, 1...\n",
              "3  Quando  era pequeno   Luisa e  Gabriel se preo...  [quando, era, pequeno, luisa, e, gabriel, se, ...\n",
              "4  Desde a manhã da última segunda-feira     e   ...  [desde, a, manhã, da, última, segunda-feira, e..."
            ]
          },
          "metadata": {
            "tags": []
          },
          "execution_count": 53
        }
      ]
    },
    {
      "cell_type": "markdown",
      "metadata": {
        "id": "2I2uEwj7UqCC",
        "colab_type": "text"
      },
      "source": [
        "Construindo o csv com índice invertido:"
      ]
    },
    {
      "cell_type": "code",
      "metadata": {
        "id": "VnQeJJBXUvI8",
        "colab_type": "code",
        "colab": {}
      },
      "source": [
        "stopwords = nltk.corpus.stopwords.words('portuguese')\n",
        "numberOfDocuments = 0\n",
        "index = {}\n",
        "\n",
        "for wordList in data.tokenized_text:\n",
        "  numberOfDocuments += 1\n",
        "  for word in wordList:\n",
        "    if word not in stopwords and len(word) >= 3:      \n",
        "      if word not in index.keys():\n",
        "        index[word] = []\n",
        "      index[word].append(numberOfDocuments)\n",
        "      \n",
        "for elem in index.items():\n",
        "  dic = dict(collections.Counter(elem[1]))\n",
        "  index[elem[0]] = list(dic.items())  \n",
        "  \n",
        "  \n",
        "indexed_data = pd.DataFrame()\n",
        "\n",
        "indexed_data['Word'] = [word for word in index.keys()]\n",
        "indexed_data['Documents'] = [docs for docs in index.values()]\n",
        "\n",
        "indexed_data.to_csv('indexed.csv', encoding='utf-8', index=False)"
      ],
      "execution_count": 0,
      "outputs": []
    },
    {
      "cell_type": "markdown",
      "metadata": {
        "id": "ScDoKSPCWsIP",
        "colab_type": "text"
      },
      "source": [
        "# Questão 2\n",
        "\n",
        "Implementação das formas de consulta ao índice:\n",
        "\n",
        "-Documento por vez\n",
        "\n",
        "-Termo por vez\n"
      ]
    },
    {
      "cell_type": "code",
      "metadata": {
        "id": "RmcfaDjaW7F8",
        "colab_type": "code",
        "colab": {
          "base_uri": "https://localhost:8080/",
          "height": 51
        },
        "outputId": "c7a68879-53a7-4b93-a408-fa18182d7702"
      },
      "source": [
        "import time\n",
        "\n",
        "def documentAtTime(query, index, k):\n",
        "    document_count_list = []\n",
        "    r = []\n",
        "    for word in query.split():\n",
        "        document_count_list.append(index[word])\n",
        "    for document_pos in range(1, len(data) + 1):\n",
        "        sd = 0\n",
        "        for document_count in document_count_list:\n",
        "            for i in document_count:\n",
        "                if (i[0] == document_pos):\n",
        "                    sd += i[1]\n",
        "                    break\n",
        "        if (sd != 0):\n",
        "          heapq.heappush(r, (sd, document_pos))\n",
        "    \n",
        "    return heapq.nlargest(k, r)\n",
        "  \n",
        "def termAtTime(query, index, k):\n",
        "    a = {}\n",
        "    document_count_list = []\n",
        "    r = []\n",
        "    for word in query.split():\n",
        "        document_count_list.append(index[word])\n",
        "    for document_count in document_count_list:\n",
        "        for post in document_count:\n",
        "            d = post[0]\n",
        "            freq = post[1]\n",
        "            if (d in a.keys()):\n",
        "                a[d] += freq\n",
        "            else:\n",
        "                a[d] = freq\n",
        "    for (d, ad) in a.items():\n",
        "        sd = ad\n",
        "        heapq.heappush(r, (sd, d))\n",
        "\n",
        "    return heapq.nlargest(k, r)\n",
        "\n",
        "  \n",
        "queries = [\"presidente\", \"ministério\", \"bolsonaro\", \"país\", \"economia\"]\n",
        "k = 10\n",
        "resultsDoc = []\n",
        "resultsTerm = []\n",
        "\n",
        "for query in queries:\n",
        "  scoreDoc = documentAtTime(query, index, k)\n",
        "  resultsDoc.append(scoreDoc)\n",
        "  scoreTerm = termAtTime(query, index, k)\n",
        "  resultsTerm.append(scoreTerm)\n",
        "\n",
        "queries_df = pd.DataFrame()\n",
        "queries_df['Consulta'] = queries\n",
        "queries_df['Documento por vez'] = resultsDoc\n",
        "queries_df['Termo por vez'] = resultsTerm\n",
        "queries_df['Mesmo resultado'] = queries_df['Documento por vez'] == queries_df['Documento por vez']\n",
        "queries_df\n",
        "        \n",
        "def document1000TimesPerQuery():\n",
        "  for query in queries:\n",
        "    for _ in range(10000):\n",
        "      documentAtTime(query, index, k)\n",
        "\n",
        "def term1000TimesPerQuery():\n",
        "  for query in queries:\n",
        "    for _ in range(1000):\n",
        "      termAtTime(query, index, k)\n",
        "      \n",
        "qtdQueriesExec = 1000 * 5\n",
        "\n",
        "documentStart = time.time()\n",
        "document1000TimesPerQuery()\n",
        "documentTimeElapsed = time.time() - documentStart\n",
        "documentAvgTime = documentTimeElapsed / qtdQueriesExec\n",
        "print(\"Tempo médio de 'Documento Por Vez': \", documentAvgTime)\n",
        "\n",
        "termStart = time.time()\n",
        "term1000TimesPerQuery()\n",
        "termTimeElapsed = time.time() - termStart\n",
        "termAverageTime = termTimeElapsed / qtdQueriesExec\n",
        "print(\"Tempo de 'Termo Por Vez': \", termAverageTime)"
      ],
      "execution_count": 55,
      "outputs": [
        {
          "output_type": "stream",
          "text": [
            "Tempo médio de 'Documento Por Vez':  0.012011565446853638\n",
            "Tempo de 'Termo Por Vez':  8.739895820617676e-05\n"
          ],
          "name": "stdout"
        }
      ]
    },
    {
      "cell_type": "markdown",
      "metadata": {
        "id": "DkchpXvAj4Xb",
        "colab_type": "text"
      },
      "source": [
        "# **Questão 3**"
      ]
    },
    {
      "cell_type": "code",
      "metadata": {
        "id": "xxkJ5O03j6iD",
        "colab_type": "code",
        "colab": {
          "base_uri": "https://localhost:8080/",
          "height": 204
        },
        "outputId": "12a365e5-60a2-4553-bbd1-9dcc0b243421"
      },
      "source": [
        "def conjuctiveQuery(query, indexes, k):\n",
        "  query_indexes = []\n",
        "  rank = []\n",
        "  \n",
        "  for word in query.split(\" \"):\n",
        "    if word in indexes.keys():\n",
        "        query_indexes.append(indexes[word])\n",
        "  \n",
        "  all_indexes = [item for sublist in query_indexes for item in sublist]\n",
        "  all_indexes.sort()\n",
        "  \n",
        "  for i in range(len(all_indexes)):\n",
        "    doc_score = 0\n",
        "    d = all_indexes.pop()\n",
        "    repeat = 1\n",
        "    for index in all_indexes:\n",
        "      if index[0] == d[0]:\n",
        "        doc_score += index[1]\n",
        "        repeat += 1\n",
        "    if doc_score != 0 and repeat == len(query_indexes):\n",
        "      doc_score += d[1]\n",
        "      heapq.heappush(rank, (doc_score, d[0]))\n",
        "        \n",
        "  return heapq.nlargest(k, rank)\n",
        "\n",
        "queries2 = [\"direitos humanos\", \"lula livre\", \"política ruptura\", \"corte interamericana\", \"país política\"]\n",
        "\n",
        "k = 10\n",
        "conjResults = []\n",
        "\n",
        "for query in queries2:\n",
        "  conjuctiveScore = conjuctiveQuery(query, index, k)\n",
        "  conjResults.append(conjuctiveScore)\n",
        "\n",
        "conj_queries_df = pd.DataFrame()\n",
        "conj_queries_df['Query'] = queries2\n",
        "conj_queries_df['Resultados'] = conjResults\n",
        "conj_queries_df"
      ],
      "execution_count": 56,
      "outputs": [
        {
          "output_type": "execute_result",
          "data": {
            "text/html": [
              "<div>\n",
              "<style scoped>\n",
              "    .dataframe tbody tr th:only-of-type {\n",
              "        vertical-align: middle;\n",
              "    }\n",
              "\n",
              "    .dataframe tbody tr th {\n",
              "        vertical-align: top;\n",
              "    }\n",
              "\n",
              "    .dataframe thead th {\n",
              "        text-align: right;\n",
              "    }\n",
              "</style>\n",
              "<table border=\"1\" class=\"dataframe\">\n",
              "  <thead>\n",
              "    <tr style=\"text-align: right;\">\n",
              "      <th></th>\n",
              "      <th>Query</th>\n",
              "      <th>Resultados</th>\n",
              "    </tr>\n",
              "  </thead>\n",
              "  <tbody>\n",
              "    <tr>\n",
              "      <th>0</th>\n",
              "      <td>direitos humanos</td>\n",
              "      <td>[(7, 117), (6, 153), (6, 1), (4, 166), (3, 173...</td>\n",
              "    </tr>\n",
              "    <tr>\n",
              "      <th>1</th>\n",
              "      <td>lula livre</td>\n",
              "      <td>[(2, 238), (2, 172), (2, 26)]</td>\n",
              "    </tr>\n",
              "    <tr>\n",
              "      <th>2</th>\n",
              "      <td>política ruptura</td>\n",
              "      <td>[(8, 166), (6, 152), (2, 83), (2, 25), (2, 1)]</td>\n",
              "    </tr>\n",
              "    <tr>\n",
              "      <th>3</th>\n",
              "      <td>corte interamericana</td>\n",
              "      <td>[(3, 223), (3, 1)]</td>\n",
              "    </tr>\n",
              "    <tr>\n",
              "      <th>4</th>\n",
              "      <td>país política</td>\n",
              "      <td>[(18, 166), (16, 173), (12, 69), (11, 138), (9...</td>\n",
              "    </tr>\n",
              "  </tbody>\n",
              "</table>\n",
              "</div>"
            ],
            "text/plain": [
              "                  Query                                         Resultados\n",
              "0      direitos humanos  [(7, 117), (6, 153), (6, 1), (4, 166), (3, 173...\n",
              "1            lula livre                      [(2, 238), (2, 172), (2, 26)]\n",
              "2      política ruptura     [(8, 166), (6, 152), (2, 83), (2, 25), (2, 1)]\n",
              "3  corte interamericana                                 [(3, 223), (3, 1)]\n",
              "4         país política  [(18, 166), (16, 173), (12, 69), (11, 138), (9..."
            ]
          },
          "metadata": {
            "tags": []
          },
          "execution_count": 56
        }
      ]
    }
  ]
}